{
 "cells": [
  {
   "cell_type": "code",
   "execution_count": 1,
   "id": "419813e2",
   "metadata": {},
   "outputs": [],
   "source": [
    "import numpy as np\n",
    "import pandas as pd\n",
    "import missingno as msno\n",
    "import seaborn as sn\n",
    "import matplotlib.pyplot as plt\n",
    "from sklearn.preprocessing import normalize, StandardScaler\n",
    "from sklearn.impute import SimpleImputer\n",
    "from sklearn.model_selection import train_test_split\n",
    "from sklearn import svm\n",
    "from sklearn.metrics import accuracy_score"
   ]
  },
  {
   "cell_type": "code",
   "execution_count": 2,
   "id": "3c126d7d",
   "metadata": {},
   "outputs": [
    {
     "data": {
      "text/html": [
       "<div>\n",
       "<style scoped>\n",
       "    .dataframe tbody tr th:only-of-type {\n",
       "        vertical-align: middle;\n",
       "    }\n",
       "\n",
       "    .dataframe tbody tr th {\n",
       "        vertical-align: top;\n",
       "    }\n",
       "\n",
       "    .dataframe thead th {\n",
       "        text-align: right;\n",
       "    }\n",
       "</style>\n",
       "<table border=\"1\" class=\"dataframe\">\n",
       "  <thead>\n",
       "    <tr style=\"text-align: right;\">\n",
       "      <th></th>\n",
       "      <th>age</th>\n",
       "      <th>sex</th>\n",
       "      <th>cp</th>\n",
       "      <th>trestbps</th>\n",
       "      <th>chol</th>\n",
       "      <th>fbs</th>\n",
       "      <th>restecg</th>\n",
       "      <th>thalach</th>\n",
       "      <th>exang</th>\n",
       "      <th>oldpeak</th>\n",
       "      <th>slop</th>\n",
       "      <th>ca</th>\n",
       "      <th>thal</th>\n",
       "      <th>heartdisease</th>\n",
       "    </tr>\n",
       "  </thead>\n",
       "  <tbody>\n",
       "    <tr>\n",
       "      <th>0</th>\n",
       "      <td>63.0</td>\n",
       "      <td>1.0</td>\n",
       "      <td>1.0</td>\n",
       "      <td>145.0</td>\n",
       "      <td>233.0</td>\n",
       "      <td>1.0</td>\n",
       "      <td>2.0</td>\n",
       "      <td>150.0</td>\n",
       "      <td>0.0</td>\n",
       "      <td>2.3</td>\n",
       "      <td>3.0</td>\n",
       "      <td>0.0</td>\n",
       "      <td>6.0</td>\n",
       "      <td>0</td>\n",
       "    </tr>\n",
       "    <tr>\n",
       "      <th>1</th>\n",
       "      <td>67.0</td>\n",
       "      <td>1.0</td>\n",
       "      <td>4.0</td>\n",
       "      <td>160.0</td>\n",
       "      <td>286.0</td>\n",
       "      <td>0.0</td>\n",
       "      <td>2.0</td>\n",
       "      <td>108.0</td>\n",
       "      <td>1.0</td>\n",
       "      <td>1.5</td>\n",
       "      <td>2.0</td>\n",
       "      <td>3.0</td>\n",
       "      <td>3.0</td>\n",
       "      <td>2</td>\n",
       "    </tr>\n",
       "    <tr>\n",
       "      <th>2</th>\n",
       "      <td>67.0</td>\n",
       "      <td>1.0</td>\n",
       "      <td>4.0</td>\n",
       "      <td>120.0</td>\n",
       "      <td>229.0</td>\n",
       "      <td>0.0</td>\n",
       "      <td>2.0</td>\n",
       "      <td>129.0</td>\n",
       "      <td>1.0</td>\n",
       "      <td>2.6</td>\n",
       "      <td>2.0</td>\n",
       "      <td>2.0</td>\n",
       "      <td>7.0</td>\n",
       "      <td>1</td>\n",
       "    </tr>\n",
       "    <tr>\n",
       "      <th>3</th>\n",
       "      <td>37.0</td>\n",
       "      <td>1.0</td>\n",
       "      <td>3.0</td>\n",
       "      <td>130.0</td>\n",
       "      <td>250.0</td>\n",
       "      <td>0.0</td>\n",
       "      <td>0.0</td>\n",
       "      <td>187.0</td>\n",
       "      <td>0.0</td>\n",
       "      <td>3.5</td>\n",
       "      <td>3.0</td>\n",
       "      <td>0.0</td>\n",
       "      <td>3.0</td>\n",
       "      <td>0</td>\n",
       "    </tr>\n",
       "    <tr>\n",
       "      <th>4</th>\n",
       "      <td>41.0</td>\n",
       "      <td>0.0</td>\n",
       "      <td>2.0</td>\n",
       "      <td>130.0</td>\n",
       "      <td>204.0</td>\n",
       "      <td>0.0</td>\n",
       "      <td>2.0</td>\n",
       "      <td>172.0</td>\n",
       "      <td>0.0</td>\n",
       "      <td>1.4</td>\n",
       "      <td>1.0</td>\n",
       "      <td>0.0</td>\n",
       "      <td>3.0</td>\n",
       "      <td>0</td>\n",
       "    </tr>\n",
       "    <tr>\n",
       "      <th>...</th>\n",
       "      <td>...</td>\n",
       "      <td>...</td>\n",
       "      <td>...</td>\n",
       "      <td>...</td>\n",
       "      <td>...</td>\n",
       "      <td>...</td>\n",
       "      <td>...</td>\n",
       "      <td>...</td>\n",
       "      <td>...</td>\n",
       "      <td>...</td>\n",
       "      <td>...</td>\n",
       "      <td>...</td>\n",
       "      <td>...</td>\n",
       "      <td>...</td>\n",
       "    </tr>\n",
       "    <tr>\n",
       "      <th>118</th>\n",
       "      <td>70.0</td>\n",
       "      <td>1.0</td>\n",
       "      <td>4.0</td>\n",
       "      <td>115</td>\n",
       "      <td>0</td>\n",
       "      <td>0</td>\n",
       "      <td>1</td>\n",
       "      <td>92</td>\n",
       "      <td>1</td>\n",
       "      <td>0</td>\n",
       "      <td>2</td>\n",
       "      <td>?</td>\n",
       "      <td>7</td>\n",
       "      <td>1</td>\n",
       "    </tr>\n",
       "    <tr>\n",
       "      <th>119</th>\n",
       "      <td>70.0</td>\n",
       "      <td>1.0</td>\n",
       "      <td>4.0</td>\n",
       "      <td>140</td>\n",
       "      <td>0</td>\n",
       "      <td>1</td>\n",
       "      <td>0</td>\n",
       "      <td>157</td>\n",
       "      <td>1</td>\n",
       "      <td>2</td>\n",
       "      <td>2</td>\n",
       "      <td>?</td>\n",
       "      <td>7</td>\n",
       "      <td>3</td>\n",
       "    </tr>\n",
       "    <tr>\n",
       "      <th>120</th>\n",
       "      <td>72.0</td>\n",
       "      <td>1.0</td>\n",
       "      <td>3.0</td>\n",
       "      <td>160</td>\n",
       "      <td>0</td>\n",
       "      <td>?</td>\n",
       "      <td>2</td>\n",
       "      <td>114</td>\n",
       "      <td>0</td>\n",
       "      <td>1.6</td>\n",
       "      <td>2</td>\n",
       "      <td>2</td>\n",
       "      <td>?</td>\n",
       "      <td>0</td>\n",
       "    </tr>\n",
       "    <tr>\n",
       "      <th>121</th>\n",
       "      <td>73.0</td>\n",
       "      <td>0.0</td>\n",
       "      <td>3.0</td>\n",
       "      <td>160</td>\n",
       "      <td>0</td>\n",
       "      <td>0</td>\n",
       "      <td>1</td>\n",
       "      <td>121</td>\n",
       "      <td>0</td>\n",
       "      <td>0</td>\n",
       "      <td>1</td>\n",
       "      <td>?</td>\n",
       "      <td>3</td>\n",
       "      <td>1</td>\n",
       "    </tr>\n",
       "    <tr>\n",
       "      <th>122</th>\n",
       "      <td>74.0</td>\n",
       "      <td>1.0</td>\n",
       "      <td>2.0</td>\n",
       "      <td>145</td>\n",
       "      <td>0</td>\n",
       "      <td>?</td>\n",
       "      <td>1</td>\n",
       "      <td>123</td>\n",
       "      <td>0</td>\n",
       "      <td>1.3</td>\n",
       "      <td>1</td>\n",
       "      <td>?</td>\n",
       "      <td>?</td>\n",
       "      <td>1</td>\n",
       "    </tr>\n",
       "  </tbody>\n",
       "</table>\n",
       "<p>720 rows × 14 columns</p>\n",
       "</div>"
      ],
      "text/plain": [
       "      age  sex   cp trestbps   chol  fbs restecg thalach exang oldpeak slop  \\\n",
       "0    63.0  1.0  1.0    145.0  233.0  1.0     2.0   150.0   0.0     2.3  3.0   \n",
       "1    67.0  1.0  4.0    160.0  286.0  0.0     2.0   108.0   1.0     1.5  2.0   \n",
       "2    67.0  1.0  4.0    120.0  229.0  0.0     2.0   129.0   1.0     2.6  2.0   \n",
       "3    37.0  1.0  3.0    130.0  250.0  0.0     0.0   187.0   0.0     3.5  3.0   \n",
       "4    41.0  0.0  2.0    130.0  204.0  0.0     2.0   172.0   0.0     1.4  1.0   \n",
       "..    ...  ...  ...      ...    ...  ...     ...     ...   ...     ...  ...   \n",
       "118  70.0  1.0  4.0      115      0    0       1      92     1       0    2   \n",
       "119  70.0  1.0  4.0      140      0    1       0     157     1       2    2   \n",
       "120  72.0  1.0  3.0      160      0    ?       2     114     0     1.6    2   \n",
       "121  73.0  0.0  3.0      160      0    0       1     121     0       0    1   \n",
       "122  74.0  1.0  2.0      145      0    ?       1     123     0     1.3    1   \n",
       "\n",
       "      ca thal  heartdisease  \n",
       "0    0.0  6.0             0  \n",
       "1    3.0  3.0             2  \n",
       "2    2.0  7.0             1  \n",
       "3    0.0  3.0             0  \n",
       "4    0.0  3.0             0  \n",
       "..   ...  ...           ...  \n",
       "118    ?    7             1  \n",
       "119    ?    7             3  \n",
       "120    2    ?             0  \n",
       "121    ?    3             1  \n",
       "122    ?    ?             1  \n",
       "\n",
       "[720 rows x 14 columns]"
      ]
     },
     "execution_count": 2,
     "metadata": {},
     "output_type": "execute_result"
    }
   ],
   "source": [
    "# Loading Data\n",
    "features = ['age', 'sex', 'cp', 'trestbps', 'chol', 'fbs', 'restecg', 'thalach', 'exang', 'oldpeak', 'slop', 'ca', 'thal', 'heartdisease']\n",
    "clivelandData = pd.read_csv('Dataset/cleveland.csv', names = features)\n",
    "hungarianData = pd.read_csv('Dataset/hungarian.csv', names = features)\n",
    "switzerlandData = pd.read_csv('Dataset/switzerland.csv', names = features)\n",
    "\n",
    "datatemp = [clivelandData, hungarianData, switzerlandData]\n",
    "data = pd.concat(datatemp)\n",
    "data"
   ]
  },
  {
   "cell_type": "code",
   "execution_count": 3,
   "id": "e19f3bdd",
   "metadata": {},
   "outputs": [
    {
     "data": {
      "text/plain": [
       "array([[63. ,  1. ,  1. , ...,  0. ,  2.3,  0. ],\n",
       "       [67. ,  1. ,  4. , ...,  1. ,  1.5,  2. ],\n",
       "       [67. ,  1. ,  4. , ...,  1. ,  2.6,  1. ],\n",
       "       ...,\n",
       "       [72. ,  1. ,  3. , ...,  0. ,  1.6,  0. ],\n",
       "       [73. ,  0. ,  3. , ...,  0. ,  0. ,  1. ],\n",
       "       [74. ,  1. ,  2. , ...,  0. ,  1.3,  1. ]])"
      ]
     },
     "execution_count": 3,
     "metadata": {},
     "output_type": "execute_result"
    }
   ],
   "source": [
    "# Preprocessing Data\n",
    "data = data.drop(['slop', 'ca', 'thal'], axis=1)\n",
    "data = data.replace('?', np.nan)\n",
    "imp = SimpleImputer(missing_values=np.nan, strategy='mean')\n",
    "imputedData = imp.fit_transform(data)\n",
    "imputedData"
   ]
  },
  {
   "cell_type": "code",
   "execution_count": 12,
   "id": "edc4292a",
   "metadata": {},
   "outputs": [
    {
     "data": {
      "text/plain": [
       "array([[ 57. ,   1. ,   4. , ...,  92. ,   1. ,   3. ],\n",
       "       [ 34. ,   1. ,   4. , ..., 154. ,   0. ,   0.2],\n",
       "       [ 63. ,   1. ,   4. , ..., 149. ,   0. ,   2. ],\n",
       "       ...,\n",
       "       [ 61. ,   1. ,   4. , ..., 138. ,   1. ,   1.9],\n",
       "       [ 53. ,   0. ,   2. , ..., 142. ,   1. ,   2. ],\n",
       "       [ 57. ,   0. ,   4. , ..., 159. ,   0. ,   0. ]])"
      ]
     },
     "execution_count": 12,
     "metadata": {},
     "output_type": "execute_result"
    }
   ],
   "source": [
    "# Creating Test and Train Data\n",
    "X_train, X_test, y_train, y_test = train_test_split(imputedData[:, :-1], imputedData[:, -1], test_size=0.3, random_state=42)\n",
    "X_train\n"
   ]
  },
  {
   "cell_type": "code",
   "execution_count": 13,
   "id": "e57001d2",
   "metadata": {},
   "outputs": [
    {
     "data": {
      "text/plain": [
       "array([[ 39. ,   1. ,   3. , ..., 160. ,   0. ,   0. ],\n",
       "       [ 67. ,   1. ,   3. , ..., 150. ,   0. ,   0.8],\n",
       "       [ 60. ,   1. ,   4. , ..., 144. ,   1. ,   1.4],\n",
       "       ...,\n",
       "       [ 54. ,   1. ,   4. , ...,  91. ,   1. ,   1. ],\n",
       "       [ 61. ,   1. ,   4. , ..., 145. ,   0. ,   1. ],\n",
       "       [ 48. ,   1. ,   4. , ...,  92. ,   1. ,   1.5]])"
      ]
     },
     "execution_count": 13,
     "metadata": {},
     "output_type": "execute_result"
    }
   ],
   "source": [
    "X_test"
   ]
  },
  {
   "cell_type": "code",
   "execution_count": 14,
   "id": "e157fd08",
   "metadata": {},
   "outputs": [
    {
     "data": {
      "text/plain": [
       "array([1., 1., 2., 0., 0., 0., 0., 1., 0., 1., 2., 1., 0., 0., 1., 0., 2.,\n",
       "       1., 0., 3., 0., 1., 1., 1., 3., 0., 0., 1., 0., 2., 2., 0., 3., 3.,\n",
       "       0., 0., 0., 0., 1., 3., 1., 0., 4., 0., 0., 0., 0., 1., 0., 1., 0.,\n",
       "       3., 1., 0., 2., 0., 0., 0., 1., 2., 0., 1., 1., 0., 4., 0., 0., 0.,\n",
       "       2., 0., 1., 0., 2., 0., 1., 0., 0., 1., 0., 0., 0., 3., 0., 1., 0.,\n",
       "       1., 0., 3., 0., 0., 1., 2., 0., 0., 0., 4., 1., 1., 1., 0., 0., 0.,\n",
       "       3., 3., 1., 1., 1., 1., 1., 0., 0., 0., 2., 1., 0., 0., 0., 1., 1.,\n",
       "       0., 1., 1., 3., 0., 3., 0., 0., 3., 1., 0., 1., 0., 1., 0., 0., 0.,\n",
       "       1., 1., 0., 1., 2., 0., 0., 0., 1., 0., 3., 1., 2., 1., 0., 2., 3.,\n",
       "       3., 3., 0., 0., 2., 0., 0., 1., 3., 1., 1., 0., 2., 0., 1., 0., 0.,\n",
       "       0., 2., 0., 1., 2., 0., 0., 3., 1., 3., 1., 0., 0., 2., 1., 0., 3.,\n",
       "       4., 0., 1., 0., 1., 0., 3., 3., 0., 0., 0., 0., 2., 0., 2., 4., 0.,\n",
       "       0., 0., 1., 0., 0., 0., 2., 1., 1., 1., 1., 0., 0., 1., 2., 3., 1.,\n",
       "       0., 4., 1., 0., 3., 0., 1., 3., 3., 0., 0., 1., 0., 0., 0., 0., 2.,\n",
       "       1., 0., 0., 0., 1., 0., 0., 1., 0., 1., 1., 0., 0., 0., 1., 1., 1.,\n",
       "       0., 0., 2., 2., 0., 0., 0., 3., 3., 0., 1., 1., 1., 2., 1., 3., 0.,\n",
       "       0., 0., 0., 1., 1., 0., 0., 1., 1., 1., 1., 0., 2., 1., 0., 0., 0.,\n",
       "       0., 1., 0., 3., 2., 2., 0., 0., 0., 0., 4., 1., 1., 1., 0., 0., 0.,\n",
       "       0., 3., 3., 1., 3., 0., 0., 2., 0., 0., 0., 0., 0., 2., 0., 3., 0.,\n",
       "       0., 3., 1., 0., 2., 1., 2., 1., 0., 1., 1., 2., 0., 1., 0., 1., 1.,\n",
       "       0., 0., 1., 0., 0., 4., 0., 0., 3., 0., 0., 1., 1., 1., 0., 0., 1.,\n",
       "       1., 2., 1., 2., 1., 1., 1., 0., 0., 0., 1., 0., 1., 3., 1., 2., 1.,\n",
       "       1., 1., 0., 1., 0., 1., 1., 3., 0., 0., 2., 0., 0., 1., 1., 0., 1.,\n",
       "       0., 1., 4., 1., 0., 0., 0., 2., 0., 0., 0., 0., 0., 0., 1., 1., 1.,\n",
       "       1., 0., 0., 3., 1., 2., 0., 1., 4., 1., 0., 2., 0., 2., 0., 0., 1.,\n",
       "       0., 0., 0., 0., 0., 4., 1., 0., 0., 0., 1., 0., 2., 2., 1., 0., 3.,\n",
       "       0., 1., 0., 0., 0., 3., 0., 1., 0., 0., 0., 0., 1., 0., 0., 0., 1.,\n",
       "       3., 0., 1., 1., 2., 1., 1., 2., 0., 1., 1., 0., 0., 1., 0., 0., 0.,\n",
       "       0., 0., 0., 3., 0., 0., 1., 0., 0., 3., 0., 3., 0., 0., 0., 0., 0.,\n",
       "       1., 0., 4., 0., 0., 1., 3., 2., 1., 0., 0.])"
      ]
     },
     "execution_count": 14,
     "metadata": {},
     "output_type": "execute_result"
    }
   ],
   "source": [
    "y_train"
   ]
  },
  {
   "cell_type": "code",
   "execution_count": 15,
   "id": "2a667a60",
   "metadata": {},
   "outputs": [
    {
     "data": {
      "text/plain": [
       "array([0., 1., 1., 0., 0., 2., 0., 1., 2., 0., 0., 0., 0., 0., 0., 0., 0.,\n",
       "       4., 1., 3., 0., 0., 0., 1., 0., 0., 0., 0., 3., 0., 0., 0., 0., 0.,\n",
       "       1., 2., 3., 1., 1., 1., 3., 0., 0., 1., 0., 1., 0., 1., 2., 0., 1.,\n",
       "       1., 0., 1., 0., 0., 4., 0., 0., 0., 1., 0., 0., 0., 0., 3., 2., 1.,\n",
       "       1., 1., 1., 0., 0., 0., 0., 1., 1., 0., 3., 3., 1., 0., 1., 2., 2.,\n",
       "       1., 1., 2., 0., 1., 0., 1., 1., 0., 4., 0., 1., 1., 1., 3., 0., 1.,\n",
       "       0., 0., 0., 0., 2., 3., 0., 2., 3., 0., 3., 0., 1., 0., 0., 2., 1.,\n",
       "       0., 1., 0., 1., 1., 1., 0., 0., 0., 1., 0., 1., 0., 0., 1., 0., 2.,\n",
       "       4., 3., 3., 0., 0., 1., 0., 1., 0., 0., 2., 0., 1., 2., 0., 0., 1.,\n",
       "       4., 1., 0., 1., 0., 0., 1., 0., 0., 1., 1., 1., 0., 0., 1., 0., 0.,\n",
       "       0., 0., 0., 1., 0., 0., 1., 3., 0., 3., 2., 0., 0., 4., 0., 0., 2.,\n",
       "       0., 0., 0., 0., 0., 0., 3., 0., 1., 0., 0., 2., 0., 1., 0., 0., 1.,\n",
       "       3., 2., 3., 0., 2., 0., 0., 0., 0., 1., 2., 1.])"
      ]
     },
     "execution_count": 15,
     "metadata": {},
     "output_type": "execute_result"
    }
   ],
   "source": [
    "y_test"
   ]
  },
  {
   "cell_type": "code",
   "execution_count": 30,
   "id": "3a62f3b2",
   "metadata": {},
   "outputs": [],
   "source": [
    "# Scale Data\n",
    "scaler = StandardScaler()\n",
    "X_train = scaler.fit_transform(X_train)\n",
    "X_test = scaler.transform(X_test)"
   ]
  },
  {
   "cell_type": "code",
   "execution_count": 31,
   "id": "5f124a2b",
   "metadata": {},
   "outputs": [],
   "source": [
    "# Build and Train the Model\n",
    "classifier = svm.SVC(kernel='rbf')\n",
    "classifier.fit(X_train, y_train)\n",
    "preds = classifier.predict(X_test)"
   ]
  },
  {
   "cell_type": "code",
   "execution_count": 32,
   "id": "9268d942",
   "metadata": {},
   "outputs": [
    {
     "data": {
      "text/plain": [
       "array([0., 0., 1., 0., 0., 1., 0., 0., 1., 0., 1., 0., 1., 0., 0., 0., 0.,\n",
       "       1., 0., 1., 0., 0., 0., 3., 0., 0., 0., 0., 1., 0., 0., 0., 0., 0.,\n",
       "       0., 1., 1., 1., 1., 0., 1., 0., 0., 1., 0., 1., 0., 0., 3., 0., 0.,\n",
       "       1., 0., 1., 0., 0., 1., 0., 0., 0., 0., 0., 0., 0., 1., 0., 3., 2.,\n",
       "       1., 1., 3., 0., 0., 0., 0., 1., 1., 0., 1., 0., 1., 0., 1., 1., 1.,\n",
       "       1., 1., 1., 0., 1., 0., 1., 0., 0., 1., 0., 1., 1., 1., 0., 0., 1.,\n",
       "       0., 0., 0., 0., 0., 1., 0., 1., 1., 0., 1., 0., 0., 0., 0., 0., 1.,\n",
       "       0., 1., 0., 1., 0., 1., 0., 0., 1., 1., 0., 1., 0., 0., 3., 0., 0.,\n",
       "       1., 0., 1., 0., 1., 0., 0., 0., 0., 0., 1., 1., 0., 0., 0., 0., 0.,\n",
       "       1., 0., 0., 1., 0., 0., 0., 0., 0., 1., 1., 3., 0., 0., 1., 0., 0.,\n",
       "       0., 0., 1., 1., 0., 0., 1., 1., 0., 1., 1., 0., 0., 3., 0., 0., 1.,\n",
       "       0., 0., 0., 0., 0., 0., 0., 0., 1., 0., 0., 3., 0., 0., 1., 0., 1.,\n",
       "       1., 0., 1., 0., 1., 0., 0., 0., 0., 1., 3., 1.])"
      ]
     },
     "execution_count": 32,
     "metadata": {},
     "output_type": "execute_result"
    }
   ],
   "source": [
    "preds"
   ]
  },
  {
   "cell_type": "code",
   "execution_count": 33,
   "id": "e28cd178",
   "metadata": {},
   "outputs": [
    {
     "data": {
      "text/plain": [
       "0.6527777777777778"
      ]
     },
     "execution_count": 33,
     "metadata": {},
     "output_type": "execute_result"
    }
   ],
   "source": [
    "# Accuracy of Predictions\n",
    "accuracy_score(y_test, preds)"
   ]
  },
  {
   "cell_type": "code",
   "execution_count": null,
   "id": "df7daa52",
   "metadata": {},
   "outputs": [],
   "source": []
  }
 ],
 "metadata": {
  "kernelspec": {
   "display_name": "Python 3 (ipykernel)",
   "language": "python",
   "name": "python3"
  },
  "language_info": {
   "codemirror_mode": {
    "name": "ipython",
    "version": 3
   },
   "file_extension": ".py",
   "mimetype": "text/x-python",
   "name": "python",
   "nbconvert_exporter": "python",
   "pygments_lexer": "ipython3",
   "version": "3.9.7"
  }
 },
 "nbformat": 4,
 "nbformat_minor": 5
}
