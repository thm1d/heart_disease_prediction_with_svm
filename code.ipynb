{
 "cells": [
  {
   "cell_type": "code",
   "execution_count": 1,
   "id": "a0c20b5d",
   "metadata": {},
   "outputs": [],
   "source": [
    "import numpy as np\n",
    "import pandas as pd\n",
    "import missingno as msno\n",
    "import seaborn as sn\n",
    "import matplotlib.pyplot as plt"
   ]
  },
  {
   "cell_type": "code",
   "execution_count": 5,
   "id": "2c5f74b7",
   "metadata": {},
   "outputs": [],
   "source": [
    "# Loading Data\n",
    "features = ['age', 'sex', 'cp', 'trestbps', 'chol', 'fbs', 'restecg', 'thalach', 'exang', 'oldpeak', 'slop', 'ca', 'thal', 'heartdisease']\n",
    "clivelandData = pd.read_csv('Dataset/cleveland.csv', names = features)\n",
    "hungarianData = pd.read_csv('Dataset/hungarian.csv', names = features)\n",
    "switzerlandData = pd.read_csv('Dataset/switzerland.csv', names = features)\n",
    "\n",
    "datatemp = [clivelandData, hungarianData, switzerlandData]\n",
    "data = pd.concat(datatemp)"
   ]
  },
  {
   "cell_type": "code",
   "execution_count": null,
   "id": "9fb0abc7",
   "metadata": {},
   "outputs": [],
   "source": []
  }
 ],
 "metadata": {
  "kernelspec": {
   "display_name": "Python 3 (ipykernel)",
   "language": "python",
   "name": "python3"
  },
  "language_info": {
   "codemirror_mode": {
    "name": "ipython",
    "version": 3
   },
   "file_extension": ".py",
   "mimetype": "text/x-python",
   "name": "python",
   "nbconvert_exporter": "python",
   "pygments_lexer": "ipython3",
   "version": "3.9.7"
  }
 },
 "nbformat": 4,
 "nbformat_minor": 5
}
